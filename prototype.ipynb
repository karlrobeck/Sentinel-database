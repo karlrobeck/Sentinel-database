{
 "cells": [
  {
   "cell_type": "code",
   "execution_count": 3,
   "metadata": {},
   "outputs": [],
   "source": [
    "import pandas\n",
    "import sqlite3\n",
    "import uuid\n",
    "import names\n",
    "import random"
   ]
  },
  {
   "cell_type": "markdown",
   "metadata": {},
   "source": [
    "# Create connection"
   ]
  },
  {
   "cell_type": "code",
   "execution_count": 4,
   "metadata": {},
   "outputs": [],
   "source": [
    "conn = sqlite3.connect('test.db')"
   ]
  },
  {
   "cell_type": "markdown",
   "metadata": {},
   "source": [
    "# Populate with fake data"
   ]
  },
  {
   "cell_type": "code",
   "execution_count": 5,
   "metadata": {},
   "outputs": [],
   "source": [
    "def create_table(table_name:str,con:sqlite3.Connection):\n",
    "    df = pandas.DataFrame({\n",
    "        'id':[str(uuid.uuid1()) for _ in range(10000)],\n",
    "        'full_name':[names.get_full_name() for _ in range(10000)],\n",
    "        'company_id':[random.randint(0,100000000000) for _ in range(10000)],\n",
    "    })\n",
    "    df['first_name'] = df['full_name'].str.split(' ').str.get(0)\n",
    "    df['last_name'] = df['full_name'].str.split(' ').str.get(1)\n",
    "    df['email'] = df['full_name'].str.replace(' ','') + '@email.com'\n",
    "    df['role'] = 'user'\n",
    "    df['password'] = random.randint(0,100000000000)\n",
    "    df.to_sql(name='Users',con=conn,if_exists='replace',index=False,dtype={'user_id':'TEXT PRIMARY KEY'})"
   ]
  },
  {
   "cell_type": "markdown",
   "metadata": {},
   "source": [
    "# Methods"
   ]
  },
  {
   "cell_type": "code",
   "execution_count": 6,
   "metadata": {},
   "outputs": [],
   "source": [
    "def get_sql(sql:str,con:sqlite3.Connection) -> pandas.DataFrame:\n",
    "    return pandas.read_sql_query(sql=sql,con=con)\n",
    "\n",
    "def insert_sql(table_name:str,dataframe:pandas.DataFrame,con:sqlite3.Connection) -> pandas.DataFrame:\n",
    "    return dataframe.to_sql(name=table_name,con=con,if_exists='append',index=False)\n",
    "\n",
    "def create_sql_table(table_name:str,columns:pandas.DataFrame,con:sqlite3.Connection) -> pandas.DataFrame:\n",
    "    return columns.to_sql(name=table_name,con=con,if_exists='fail')"
   ]
  },
  {
   "cell_type": "markdown",
   "metadata": {},
   "source": [
    "# Send to SQL"
   ]
  },
  {
   "cell_type": "code",
   "execution_count": 83,
   "metadata": {},
   "outputs": [
    {
     "data": {
      "text/html": [
       "<div>\n",
       "<style scoped>\n",
       "    .dataframe tbody tr th:only-of-type {\n",
       "        vertical-align: middle;\n",
       "    }\n",
       "\n",
       "    .dataframe tbody tr th {\n",
       "        vertical-align: top;\n",
       "    }\n",
       "\n",
       "    .dataframe thead th {\n",
       "        text-align: right;\n",
       "    }\n",
       "</style>\n",
       "<table border=\"1\" class=\"dataframe\">\n",
       "  <thead>\n",
       "    <tr style=\"text-align: right;\">\n",
       "      <th></th>\n",
       "      <th>id</th>\n",
       "      <th>full_name</th>\n",
       "      <th>company_id</th>\n",
       "      <th>first_name</th>\n",
       "      <th>last_name</th>\n",
       "      <th>email</th>\n",
       "      <th>password</th>\n",
       "      <th>role</th>\n",
       "    </tr>\n",
       "  </thead>\n",
       "  <tbody>\n",
       "    <tr>\n",
       "      <th>0</th>\n",
       "      <td>e5d25a4a-5749-11ee-8b08-b00b9af721a9</td>\n",
       "      <td>Kenneth Scott</td>\n",
       "      <td>11801922817</td>\n",
       "      <td>Kenneth</td>\n",
       "      <td>Scott</td>\n",
       "      <td>KennethScott@email.com</td>\n",
       "      <td>66655641152</td>\n",
       "      <td>user</td>\n",
       "    </tr>\n",
       "  </tbody>\n",
       "</table>\n",
       "</div>"
      ],
      "text/plain": [
       "                                     id      full_name   company_id  \\\n",
       "0  e5d25a4a-5749-11ee-8b08-b00b9af721a9  Kenneth Scott  11801922817   \n",
       "\n",
       "  first_name last_name                   email     password  role  \n",
       "0    Kenneth     Scott  KennethScott@email.com  66655641152  user  "
      ]
     },
     "execution_count": 83,
     "metadata": {},
     "output_type": "execute_result"
    }
   ],
   "source": [
    "create_table('Users',con=conn)\n",
    "df_1 = pandas.DataFrame({\n",
    "    'id':[str(uuid.uuid1())],\n",
    "    'full_name':[names.get_full_name()],\n",
    "    'company_id':[random.randint(0,100000000000)],\n",
    "})\n",
    "df_1['first_name'] = df_1['full_name'].str.split(' ').str.get(0)\n",
    "df_1['last_name'] = df_1['full_name'].str.split(' ').str.get(1)\n",
    "df_1['email'] = df_1['full_name'].str.replace(' ','') + '@email.com'\n",
    "df_1['password'] = random.randint(0,100000000000)\n",
    "df_1['role'] = 'user'\n",
    "\n",
    "df_1.to_sql(name='Users',con=conn,if_exists='append',index=False)\n",
    "df_1"
   ]
  },
  {
   "cell_type": "markdown",
   "metadata": {},
   "source": [
    "# Get from SQL"
   ]
  },
  {
   "cell_type": "code",
   "execution_count": 85,
   "metadata": {},
   "outputs": [],
   "source": [
    "user = {\n",
    "    'email': 'KennethScott@email.com',\n",
    "    'password':66655641152\n",
    "}"
   ]
  },
  {
   "cell_type": "code",
   "execution_count": 100,
   "metadata": {},
   "outputs": [
    {
     "data": {
      "text/plain": [
       "'e5d25a4a-5749-11ee-8b08-b00b9af721a9'"
      ]
     },
     "execution_count": 100,
     "metadata": {},
     "output_type": "execute_result"
    }
   ],
   "source": [
    "user.update({'user_id':get_sql(f\"\"\"\n",
    "    SELECT id FROM Users WHERE email = '{user['email']}' and password = '{user['password']}'\n",
    "\"\"\")}) "
   ]
  },
  {
   "cell_type": "code",
   "execution_count": 102,
   "metadata": {},
   "outputs": [
    {
     "data": {
      "text/html": [
       "<div>\n",
       "<style scoped>\n",
       "    .dataframe tbody tr th:only-of-type {\n",
       "        vertical-align: middle;\n",
       "    }\n",
       "\n",
       "    .dataframe tbody tr th {\n",
       "        vertical-align: top;\n",
       "    }\n",
       "\n",
       "    .dataframe thead th {\n",
       "        text-align: right;\n",
       "    }\n",
       "</style>\n",
       "<table border=\"1\" class=\"dataframe\">\n",
       "  <thead>\n",
       "    <tr style=\"text-align: right;\">\n",
       "      <th></th>\n",
       "      <th>id</th>\n",
       "      <th>full_name</th>\n",
       "      <th>company_id</th>\n",
       "      <th>first_name</th>\n",
       "      <th>last_name</th>\n",
       "      <th>email</th>\n",
       "      <th>role</th>\n",
       "      <th>password</th>\n",
       "    </tr>\n",
       "  </thead>\n",
       "  <tbody>\n",
       "    <tr>\n",
       "      <th>0</th>\n",
       "      <td>e5d25a4a-5749-11ee-8b08-b00b9af721a9</td>\n",
       "      <td>Kenneth Scott</td>\n",
       "      <td>11801922817</td>\n",
       "      <td>Kenneth</td>\n",
       "      <td>Scott</td>\n",
       "      <td>KennethScott@email.com</td>\n",
       "      <td>user</td>\n",
       "      <td>66655641152</td>\n",
       "    </tr>\n",
       "  </tbody>\n",
       "</table>\n",
       "</div>"
      ],
      "text/plain": [
       "                                     id      full_name   company_id  \\\n",
       "0  e5d25a4a-5749-11ee-8b08-b00b9af721a9  Kenneth Scott  11801922817   \n",
       "\n",
       "  first_name last_name                   email  role     password  \n",
       "0    Kenneth     Scott  KennethScott@email.com  user  66655641152  "
      ]
     },
     "execution_count": 102,
     "metadata": {},
     "output_type": "execute_result"
    }
   ],
   "source": [
    "sql_data = pandas.read_sql_query(f\"\"\"\n",
    "SELECT * From Users WHERE id = '{user['user_id']}' \n",
    "\"\"\",con=conn)"
   ]
  },
  {
   "cell_type": "code",
   "execution_count": null,
   "metadata": {},
   "outputs": [],
   "source": []
  }
 ],
 "metadata": {
  "kernelspec": {
   "display_name": "sentinel-api-CaHIn9QU",
   "language": "python",
   "name": "python3"
  },
  "language_info": {
   "codemirror_mode": {
    "name": "ipython",
    "version": 3
   },
   "file_extension": ".py",
   "mimetype": "text/x-python",
   "name": "python",
   "nbconvert_exporter": "python",
   "pygments_lexer": "ipython3",
   "version": "3.11.4"
  },
  "orig_nbformat": 4
 },
 "nbformat": 4,
 "nbformat_minor": 2
}
